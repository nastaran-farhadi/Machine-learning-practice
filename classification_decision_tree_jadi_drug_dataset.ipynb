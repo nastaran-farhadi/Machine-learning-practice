{
  "nbformat": 4,
  "nbformat_minor": 0,
  "metadata": {
    "colab": {
      "provenance": [],
      "authorship_tag": "ABX9TyOdZ9Ven5Gm8HnZhmq1D7fP",
      "include_colab_link": true
    },
    "kernelspec": {
      "name": "python3",
      "display_name": "Python 3"
    },
    "language_info": {
      "name": "python"
    }
  },
  "cells": [
    {
      "cell_type": "markdown",
      "metadata": {
        "id": "view-in-github",
        "colab_type": "text"
      },
      "source": [
        "<a href=\"https://colab.research.google.com/github/nastaran-farhadi/Machine-learning-practice/blob/main/classification_decision_tree_jadi_drug_dataset.ipynb\" target=\"_parent\"><img src=\"https://colab.research.google.com/assets/colab-badge.svg\" alt=\"Open In Colab\"/></a>"
      ]
    },
    {
      "cell_type": "code",
      "execution_count": null,
      "metadata": {
        "id": "lN5TYVrP9bHs"
      },
      "outputs": [],
      "source": [
        "from google.colab import drive\n",
        "drive.mount('/content/gdrive',force_remount=True)"
      ]
    },
    {
      "cell_type": "code",
      "source": [
        "#Import the libraries\n",
        "import pandas as pd\n",
        "import numpy as np\n",
        "import matplotlib.pyplot as plt\n",
        "import seaborn as sns"
      ],
      "metadata": {
        "id": "22tiANrXB8Mo"
      },
      "execution_count": null,
      "outputs": []
    },
    {
      "cell_type": "code",
      "source": [
        "my_data=pd.read_csv('/content/gdrive/MyDrive/jadi/drug200.csv')\n",
        "my_data.shape\n",
        "my_data.columns"
      ],
      "metadata": {
        "id": "hbCepMQQIs-K"
      },
      "execution_count": null,
      "outputs": []
    },
    {
      "cell_type": "code",
      "source": [
        "#preproseing\n",
        "x=my_data[['Age','Sex', 'BP', 'Cholesterol', 'Na_to_K']].values\n",
        "x[0:5]"
      ],
      "metadata": {
        "id": "qrVnNTgGI-s1"
      },
      "execution_count": null,
      "outputs": []
    },
    {
      "cell_type": "code",
      "source": [
        "y=my_data['Drug'].values\n",
        "y[0:5]"
      ],
      "metadata": {
        "id": "rckQGZqVJ0Fc"
      },
      "execution_count": null,
      "outputs": []
    },
    {
      "cell_type": "code",
      "source": [
        "#preproseing\n",
        "from sklearn import preprocessing\n",
        "le_sex=preprocessing.LabelEncoder()\n",
        "le_sex.fit(['F','M'])\n",
        "x[:,1]=le_sex.transform(x[:,1])\n"
      ],
      "metadata": {
        "id": "VjIfeyp4KFQC"
      },
      "execution_count": null,
      "outputs": []
    },
    {
      "cell_type": "code",
      "source": [
        "le_BP=preprocessing.LabelEncoder()\n",
        "le_BP.fit(['LOW','NORMAL','HIGH'])\n",
        "x[:,2]=le_BP.transform(x[:,2])"
      ],
      "metadata": {
        "id": "mLeZEvY4Mdom"
      },
      "execution_count": null,
      "outputs": []
    },
    {
      "cell_type": "code",
      "source": [
        "le_chon=preprocessing.LabelEncoder()\n",
        "le_chon.fit(['NORMAL','HIGH'])\n",
        "x[:,3]=le_chon.transform(x[:,3])"
      ],
      "metadata": {
        "id": "k-SC98hUNFke"
      },
      "execution_count": null,
      "outputs": []
    },
    {
      "cell_type": "code",
      "source": [
        "from sklearn.model_selection import train_test_split\n",
        "x_train,x_test,y_train,y_test= train_test_split(x,y,test_size=0.3,random_state=1)"
      ],
      "metadata": {
        "id": "5HiTSb1eN5XQ"
      },
      "execution_count": null,
      "outputs": []
    },
    {
      "cell_type": "code",
      "source": [
        "from sklearn.tree import DecisionTreeClassifier\n",
        "drugtree=DecisionTreeClassifier()"
      ],
      "metadata": {
        "id": "RltwM5lyOXPT"
      },
      "execution_count": null,
      "outputs": []
    }
  ]
}