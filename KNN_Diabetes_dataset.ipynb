{
  "nbformat": 4,
  "nbformat_minor": 0,
  "metadata": {
    "colab": {
      "provenance": [],
      "authorship_tag": "ABX9TyOIXPjOtLkw+GsQ2l8GDwiC",
      "include_colab_link": true
    },
    "kernelspec": {
      "name": "python3",
      "display_name": "Python 3"
    },
    "language_info": {
      "name": "python"
    }
  },
  "cells": [
    {
      "cell_type": "markdown",
      "metadata": {
        "id": "view-in-github",
        "colab_type": "text"
      },
      "source": [
        "<a href=\"https://colab.research.google.com/github/nastaran-farhadi/Machine-learning-practice/blob/main/KNN_Diabetes_dataset.ipynb\" target=\"_parent\"><img src=\"https://colab.research.google.com/assets/colab-badge.svg\" alt=\"Open In Colab\"/></a>"
      ]
    },
    {
      "cell_type": "code",
      "execution_count": null,
      "metadata": {
        "id": "v8RK88NQJn63"
      },
      "outputs": [],
      "source": [
        "from google.colab import drive\n",
        "drive.mount('/content/gdrive',force_remount=True)"
      ]
    },
    {
      "cell_type": "code",
      "source": [
        "import pandas as pd\n",
        "import numpy as np\n",
        "import matplotlib.pyplot as plt\n",
        "import seaborn as sns"
      ],
      "metadata": {
        "id": "g5t4lYpLL3eU"
      },
      "execution_count": null,
      "outputs": []
    },
    {
      "cell_type": "code",
      "source": [
        "df=pd.read_csv('/content/gdrive/MyDrive/jadi/diabetes.csv')\n",
        "df.head(10)"
      ],
      "metadata": {
        "id": "xZSCpzEQMN92"
      },
      "execution_count": null,
      "outputs": []
    },
    {
      "cell_type": "code",
      "source": [
        "df['Outcome'].value_counts()"
      ],
      "metadata": {
        "id": "ART2FwqgM86T"
      },
      "execution_count": null,
      "outputs": []
    },
    {
      "cell_type": "code",
      "source": [
        "df.columns"
      ],
      "metadata": {
        "id": "1Rjdg0jNNva6"
      },
      "execution_count": null,
      "outputs": []
    },
    {
      "cell_type": "code",
      "source": [
        "x=df[['Pregnancies', 'Glucose', 'BloodPressure', 'SkinThickness', 'Insulin','BMI', 'DiabetesPedigreeFunction', 'Age']].values\n",
        "x[0:5]\n"
      ],
      "metadata": {
        "id": "-qPPiBNWOzAJ"
      },
      "execution_count": null,
      "outputs": []
    },
    {
      "cell_type": "code",
      "source": [
        "y=df['Outcome'].values\n",
        "y[0:5]"
      ],
      "metadata": {
        "id": "h1J0cqOQQe2V"
      },
      "execution_count": null,
      "outputs": []
    },
    {
      "cell_type": "code",
      "source": [
        "from sklearn.model_selection import train_test_split\n",
        "x_train,x_test,y_train,y_test=train_test_split(x,y,test_size=0.4, random_state=42)"
      ],
      "metadata": {
        "id": "cRjjQZ4HQtAI"
      },
      "execution_count": null,
      "outputs": []
    },
    {
      "cell_type": "code",
      "source": [
        "from sklearn.neighbors import KNeighborsClassifier\n"
      ],
      "metadata": {
        "id": "mt9EzPyMS9Sy"
      },
      "execution_count": null,
      "outputs": []
    },
    {
      "cell_type": "code",
      "source": [
        "k=4\n",
        "neigh=KNeighborsClassifier(n_neighbors=k)\n",
        "neigh.fit(x_train,y_train)"
      ],
      "metadata": {
        "id": "k4LXgJSDTsR2"
      },
      "execution_count": null,
      "outputs": []
    },
    {
      "cell_type": "code",
      "source": [
        "y_hat=neigh.predict(x_test)"
      ],
      "metadata": {
        "id": "W5KsdKFVUsZ1"
      },
      "execution_count": null,
      "outputs": []
    },
    {
      "cell_type": "code",
      "source": [
        "from sklearn import metrics\n",
        "print(\"train accuracy\", metrics.accuracy_score(y_train,neigh.predict(x_train)))\n",
        "print(\"test accuracy\",metrics.accuracy_score(y_test,y_hat))"
      ],
      "metadata": {
        "id": "6boonmHxU1qd"
      },
      "execution_count": null,
      "outputs": []
    },
    {
      "cell_type": "code",
      "source": [
        "neigh=KNeighborsClassifier(n_neighbors=k)\n",
        "from sklearn import metrics\n",
        "\n",
        "from tables.description import MetaIsDescription\n",
        "k=10\n",
        "train_accuracy=np.zeros(k-1)\n",
        "test_accuracy=np.zeros(k-1)\n",
        "for i in range(1,k):\n",
        "  neigh=KNeighborsClassifier(n_neighbors=i)\n",
        "  neigh.fit(x_train,y_train)\n",
        "  train_accuracy[i-1]=metrics.accuracy_score(y_train,neigh.predict(x_train))\n",
        "  test_accuracy[i-1]=metrics.accuracy_score(y_test,neigh.predict(x_test))\n",
        "test_accuracy\n",
        "\n",
        "\n"
      ],
      "metadata": {
        "id": "-5-8vExcXgBX"
      },
      "execution_count": null,
      "outputs": []
    },
    {
      "cell_type": "code",
      "source": [
        "i=np.arange(0,8)\n",
        "plt.plot(i,train_accuracy,label='train accuracy',color='blue')\n",
        "plt.plot(i,test_accuracy,label='test accuracy',color='red')"
      ],
      "metadata": {
        "id": "6xYZ0cOshPmW"
      },
      "execution_count": null,
      "outputs": []
    }
  ]
}