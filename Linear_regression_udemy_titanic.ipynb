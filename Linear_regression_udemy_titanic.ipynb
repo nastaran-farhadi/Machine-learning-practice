{
  "cells": [
    {
      "cell_type": "markdown",
      "metadata": {
        "id": "view-in-github",
        "colab_type": "text"
      },
      "source": [
        "<a href=\"https://colab.research.google.com/github/nastaran-farhadi/Machine-learning-practice/blob/main/Linear_regression_udemy_titanic.ipynb\" target=\"_parent\"><img src=\"https://colab.research.google.com/assets/colab-badge.svg\" alt=\"Open In Colab\"/></a>"
      ]
    },
    {
      "cell_type": "code",
      "execution_count": null,
      "metadata": {
        "id": "YRFcV77bH_rA"
      },
      "outputs": [],
      "source": [
        "from google.colab import drive\n",
        "drive.mount('/content/gdrive',force_remount=True)"
      ]
    },
    {
      "cell_type": "code",
      "execution_count": null,
      "metadata": {
        "id": "XtWd9gC7I2Dz"
      },
      "outputs": [],
      "source": [
        "#import libraries\n",
        "import pandas as pd\n",
        "import numpy as np\n",
        "import matplotlib.pyplot as plt"
      ]
    },
    {
      "cell_type": "code",
      "execution_count": null,
      "metadata": {
        "id": "ldIca-t1IvlV"
      },
      "outputs": [],
      "source": [
        "#import data\n",
        "data= pd.read_csv('/content/gdrive/MyDrive/jadi/train.csv')\n",
        "data.head()\n"
      ]
    },
    {
      "cell_type": "code",
      "execution_count": null,
      "metadata": {
        "id": "4RPakf1eDPTo"
      },
      "outputs": [],
      "source": [
        "data.info()"
      ]
    },
    {
      "cell_type": "code",
      "execution_count": null,
      "metadata": {
        "id": "KQ4Kob-BFhp_"
      },
      "outputs": [],
      "source": [
        "data.describe()"
      ]
    },
    {
      "cell_type": "code",
      "execution_count": null,
      "metadata": {
        "id": "v-9t_rSkJD-P"
      },
      "outputs": [],
      "source": [
        "data.isnull().sum()"
      ]
    },
    {
      "cell_type": "code",
      "execution_count": null,
      "metadata": {
        "id": "PugMF35HouR8"
      },
      "outputs": [],
      "source": [
        "#Visualising the data\n",
        "import seaborn as sns\n",
        "sns.countplot(x='Survived',hue='Sex',data=data,palette='RdBu_r')"
      ]
    },
    {
      "cell_type": "code",
      "execution_count": null,
      "metadata": {
        "id": "h8P8wK55ueUx"
      },
      "outputs": [],
      "source": [
        "sns.countplot(x=\"Survived\",hue=\"Embarked\",data=data,palette='RdBu_r')"
      ]
    },
    {
      "cell_type": "code",
      "execution_count": null,
      "metadata": {
        "id": "R1uoj7i3vDYv"
      },
      "outputs": [],
      "source": [
        "sns.countplot(x=\"Survived\", hue=\"SibSp\",data=data,palette=\"RdBu_r\")"
      ]
    },
    {
      "cell_type": "code",
      "execution_count": null,
      "metadata": {
        "id": "tn1iAPILvwnS"
      },
      "outputs": [],
      "source": [
        "sns.countplot(x=\"SibSp\",data=data)"
      ]
    },
    {
      "cell_type": "code",
      "execution_count": null,
      "metadata": {
        "id": "B-SXSec1v4U2"
      },
      "outputs": [],
      "source": [
        "sns.countplot(x=\"Parch\",data=data)"
      ]
    },
    {
      "cell_type": "code",
      "execution_count": null,
      "metadata": {
        "id": "SqgPZ0Katx7g"
      },
      "outputs": [],
      "source": [
        "#Convert variable in to dummy variable\n",
        "sex = pd.get_dummies(data['Sex'],drop_first=True)\n"
      ]
    },
    {
      "cell_type": "code",
      "source": [
        "sex.head(5)"
      ],
      "metadata": {
        "id": "eYFEsZsyab7b"
      },
      "execution_count": null,
      "outputs": []
    },
    {
      "cell_type": "code",
      "execution_count": null,
      "metadata": {
        "id": "rdBninkdwAiA"
      },
      "outputs": [],
      "source": [
        "embark= pd.get_dummies(data['Embarked'],drop_first=True)\n"
      ]
    },
    {
      "cell_type": "code",
      "execution_count": null,
      "metadata": {
        "id": "l-lNRjcSyOsk"
      },
      "outputs": [],
      "source": [
        "pclass=pd.get_dummies(data['Pclass'],drop_first=True)\n"
      ]
    },
    {
      "cell_type": "code",
      "execution_count": null,
      "metadata": {
        "id": "9lI1O-diV3Yy"
      },
      "outputs": [],
      "source": [
        "type(embark)"
      ]
    },
    {
      "cell_type": "code",
      "execution_count": null,
      "metadata": {
        "id": "pOAg2DbHW5ZI"
      },
      "outputs": [],
      "source": [
        "#drop original variables\n",
        "data= data.drop(['Sex','Embarked','Pclass'],axis =1)"
      ]
    },
    {
      "cell_type": "code",
      "execution_count": null,
      "metadata": {
        "id": "LLofXfzuXAi8"
      },
      "outputs": [],
      "source": [
        "#add dummy variavle to list\n",
        "data = pd.concat([data,sex,embark,pclass], axis=1)"
      ]
    },
    {
      "cell_type": "code",
      "source": [
        "data.head(5)"
      ],
      "metadata": {
        "id": "MyS-0L8zcOBl"
      },
      "execution_count": null,
      "outputs": []
    },
    {
      "cell_type": "code",
      "execution_count": null,
      "metadata": {
        "id": "VCmv_aFlQgGg"
      },
      "outputs": [],
      "source": [
        "data=data.drop(['PassengerId','Ticket','Cabin','Name'],axis=1)"
      ]
    },
    {
      "cell_type": "code",
      "source": [
        "#get the mean of the null column\n",
        "mean_value=data['Age'].mean()"
      ],
      "metadata": {
        "id": "uOOS_UaA5PnE"
      },
      "execution_count": null,
      "outputs": []
    },
    {
      "cell_type": "code",
      "source": [
        "data['Age'].fillna(value=mean_value, inplace=True)\n",
        "print('Updated Dataframe:')\n",
        "print(data)"
      ],
      "metadata": {
        "id": "2yazQhwA5g-5"
      },
      "execution_count": null,
      "outputs": []
    },
    {
      "cell_type": "code",
      "execution_count": null,
      "metadata": {
        "colab": {
          "background_save": true
        },
        "id": "K0JK7DyFeXJv"
      },
      "outputs": [],
      "source": [
        "#not work but usefull\n",
        "#print(data['Age'])\n",
        "#a=data['Age'].values\n",
        "b=data.loc[:,'Age'].values\n",
        "#type (a)\n",
        "type (b)\n",
        "##b.reshape(-1,1)\n",
        "#print (b)"
      ]
    },
    {
      "cell_type": "code",
      "execution_count": null,
      "metadata": {
        "id": "khwSaIWAPR3S"
      },
      "outputs": [],
      "source": [
        "from sklearn.impute import SimpleImputer\n",
        "imputer = SimpleImputer(missing_values=np.nan,strategy='mean')\n",
        "\n",
        "imputer = imputer.fit([b])\n",
        "b = imputer.transform([b])\n",
        "#imp.fit(data[:,'Age'])\n",
        "#data[:,'Age']=imp.transform(data[:,'Age'])\n"
      ]
    },
    {
      "cell_type": "code",
      "execution_count": null,
      "metadata": {
        "id": "V-8HzdwAh3Vv"
      },
      "outputs": [],
      "source": [
        "#convert array to datafeame\n",
        "numpy_array=np.array(b)\n",
        "age=pd.DataFrame(numpy_array)"
      ]
    },
    {
      "cell_type": "code",
      "execution_count": null,
      "metadata": {
        "id": "bjFUher3pgzD"
      },
      "outputs": [],
      "source": [
        "data = pd.concat([data,b], axis=1)"
      ]
    },
    {
      "cell_type": "code",
      "execution_count": null,
      "metadata": {
        "id": "oOTuxfo36oFs"
      },
      "outputs": [],
      "source": [
        "#x=data.drop('Survived',axis=1)\n",
        "x=data.loc[:,['Age']]\n",
        "type(x)"
      ]
    },
    {
      "cell_type": "code",
      "execution_count": null,
      "metadata": {
        "id": "U-0hHYl764Mj"
      },
      "outputs": [],
      "source": [
        "#y= data_train['Survived']\n",
        "y=data.loc[:,['Survived']]\n",
        "type(y)"
      ]
    },
    {
      "cell_type": "code",
      "execution_count": null,
      "metadata": {
        "id": "UvdgrxUG7eMt"
      },
      "outputs": [],
      "source": [
        "z=data.loc[:,['Sex','Age','Fare']]\n",
        "type(z)\n",
        "print (z)"
      ]
    },
    {
      "cell_type": "markdown",
      "metadata": {
        "id": "gDfVu6pHSulc"
      },
      "source": [
        "regression based on the passenger ID and survived"
      ]
    },
    {
      "cell_type": "code",
      "execution_count": null,
      "metadata": {
        "id": "GcqObJBLPYsL"
      },
      "outputs": [],
      "source": [
        "from sklearn.model_selection import train_test_split\n",
        "x_train, x_test, y_train, y_test =train_test_split (x, y, test_size=0.2, random_state=1)\n",
        "print(y_train)\n",
        "#type(x_train)\n",
        "type(y_train)"
      ]
    },
    {
      "cell_type": "code",
      "execution_count": null,
      "metadata": {
        "colab": {
          "base_uri": "https://localhost:8080/",
          "height": 74
        },
        "id": "wxiajQgUSlHp",
        "outputId": "3f889097-fa97-4ce1-fd5d-7e4586b3dc5e"
      },
      "outputs": [
        {
          "output_type": "execute_result",
          "data": {
            "text/plain": [
              "LinearRegression()"
            ],
            "text/html": [
              "<style>#sk-container-id-1 {color: black;background-color: white;}#sk-container-id-1 pre{padding: 0;}#sk-container-id-1 div.sk-toggleable {background-color: white;}#sk-container-id-1 label.sk-toggleable__label {cursor: pointer;display: block;width: 100%;margin-bottom: 0;padding: 0.3em;box-sizing: border-box;text-align: center;}#sk-container-id-1 label.sk-toggleable__label-arrow:before {content: \"▸\";float: left;margin-right: 0.25em;color: #696969;}#sk-container-id-1 label.sk-toggleable__label-arrow:hover:before {color: black;}#sk-container-id-1 div.sk-estimator:hover label.sk-toggleable__label-arrow:before {color: black;}#sk-container-id-1 div.sk-toggleable__content {max-height: 0;max-width: 0;overflow: hidden;text-align: left;background-color: #f0f8ff;}#sk-container-id-1 div.sk-toggleable__content pre {margin: 0.2em;color: black;border-radius: 0.25em;background-color: #f0f8ff;}#sk-container-id-1 input.sk-toggleable__control:checked~div.sk-toggleable__content {max-height: 200px;max-width: 100%;overflow: auto;}#sk-container-id-1 input.sk-toggleable__control:checked~label.sk-toggleable__label-arrow:before {content: \"▾\";}#sk-container-id-1 div.sk-estimator input.sk-toggleable__control:checked~label.sk-toggleable__label {background-color: #d4ebff;}#sk-container-id-1 div.sk-label input.sk-toggleable__control:checked~label.sk-toggleable__label {background-color: #d4ebff;}#sk-container-id-1 input.sk-hidden--visually {border: 0;clip: rect(1px 1px 1px 1px);clip: rect(1px, 1px, 1px, 1px);height: 1px;margin: -1px;overflow: hidden;padding: 0;position: absolute;width: 1px;}#sk-container-id-1 div.sk-estimator {font-family: monospace;background-color: #f0f8ff;border: 1px dotted black;border-radius: 0.25em;box-sizing: border-box;margin-bottom: 0.5em;}#sk-container-id-1 div.sk-estimator:hover {background-color: #d4ebff;}#sk-container-id-1 div.sk-parallel-item::after {content: \"\";width: 100%;border-bottom: 1px solid gray;flex-grow: 1;}#sk-container-id-1 div.sk-label:hover label.sk-toggleable__label {background-color: #d4ebff;}#sk-container-id-1 div.sk-serial::before {content: \"\";position: absolute;border-left: 1px solid gray;box-sizing: border-box;top: 0;bottom: 0;left: 50%;z-index: 0;}#sk-container-id-1 div.sk-serial {display: flex;flex-direction: column;align-items: center;background-color: white;padding-right: 0.2em;padding-left: 0.2em;position: relative;}#sk-container-id-1 div.sk-item {position: relative;z-index: 1;}#sk-container-id-1 div.sk-parallel {display: flex;align-items: stretch;justify-content: center;background-color: white;position: relative;}#sk-container-id-1 div.sk-item::before, #sk-container-id-1 div.sk-parallel-item::before {content: \"\";position: absolute;border-left: 1px solid gray;box-sizing: border-box;top: 0;bottom: 0;left: 50%;z-index: -1;}#sk-container-id-1 div.sk-parallel-item {display: flex;flex-direction: column;z-index: 1;position: relative;background-color: white;}#sk-container-id-1 div.sk-parallel-item:first-child::after {align-self: flex-end;width: 50%;}#sk-container-id-1 div.sk-parallel-item:last-child::after {align-self: flex-start;width: 50%;}#sk-container-id-1 div.sk-parallel-item:only-child::after {width: 0;}#sk-container-id-1 div.sk-dashed-wrapped {border: 1px dashed gray;margin: 0 0.4em 0.5em 0.4em;box-sizing: border-box;padding-bottom: 0.4em;background-color: white;}#sk-container-id-1 div.sk-label label {font-family: monospace;font-weight: bold;display: inline-block;line-height: 1.2em;}#sk-container-id-1 div.sk-label-container {text-align: center;}#sk-container-id-1 div.sk-container {/* jupyter's `normalize.less` sets `[hidden] { display: none; }` but bootstrap.min.css set `[hidden] { display: none !important; }` so we also need the `!important` here to be able to override the default hidden behavior on the sphinx rendered scikit-learn.org. See: https://github.com/scikit-learn/scikit-learn/issues/21755 */display: inline-block !important;position: relative;}#sk-container-id-1 div.sk-text-repr-fallback {display: none;}</style><div id=\"sk-container-id-1\" class=\"sk-top-container\"><div class=\"sk-text-repr-fallback\"><pre>LinearRegression()</pre><b>In a Jupyter environment, please rerun this cell to show the HTML representation or trust the notebook. <br />On GitHub, the HTML representation is unable to render, please try loading this page with nbviewer.org.</b></div><div class=\"sk-container\" hidden><div class=\"sk-item\"><div class=\"sk-estimator sk-toggleable\"><input class=\"sk-toggleable__control sk-hidden--visually\" id=\"sk-estimator-id-1\" type=\"checkbox\" checked><label for=\"sk-estimator-id-1\" class=\"sk-toggleable__label sk-toggleable__label-arrow\">LinearRegression</label><div class=\"sk-toggleable__content\"><pre>LinearRegression()</pre></div></div></div></div></div>"
            ]
          },
          "metadata": {},
          "execution_count": 21
        }
      ],
      "source": [
        "from sklearn import linear_model\n",
        "reg= linear_model.LinearRegression()\n",
        "\n",
        "reg.fit(x_train, y_train)"
      ]
    },
    {
      "cell_type": "code",
      "execution_count": null,
      "metadata": {
        "id": "nwicR7ltUd8j"
      },
      "outputs": [],
      "source": [
        "y_pred=reg.predict(x_test)\n",
        "from sklearn.metrics import r2_score\n",
        "print(\"r2_score:\", r2_score(y_pred, y_test))\n",
        "print('Coefficients:',reg.coef_)\n",
        "print(\"Intercept:\", reg.intercept_)"
      ]
    },
    {
      "cell_type": "code",
      "execution_count": null,
      "metadata": {
        "id": "s8fM2puIVvP5"
      },
      "outputs": [],
      "source": [
        "plt.scatter(x_test, y_test, color=\"red\")\n",
        "plt.scatter(x_test, y_pred, color=\"blue\")\n",
        "plt.plot(x_test, reg.coef_[0][0]*x_test + reg.intercept_[0])"
      ]
    }
  ],
  "metadata": {
    "colab": {
      "provenance": [],
      "authorship_tag": "ABX9TyNC0JkMKYCnzLdpetjawYxW",
      "include_colab_link": true
    },
    "kernelspec": {
      "display_name": "Python 3",
      "name": "python3"
    },
    "language_info": {
      "name": "python"
    }
  },
  "nbformat": 4,
  "nbformat_minor": 0
}